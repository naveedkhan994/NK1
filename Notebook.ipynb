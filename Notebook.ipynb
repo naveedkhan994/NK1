{
 "cells": [
  {
   "cell_type": "markdown",
   "metadata": {},
   "source": [
    "<center>\n",
    "    <img src=\"https://cf-courses-data.s3.us.cloud-object-storage.appdomain.cloud/IBMDeveloperSkillsNetwork-DS0105EN-SkillsNetwork/labs/Module2/images/SN_web_lightmode.png\" width=\"300\" alt=\"cognitiveclass.ai logo\">\n",
    "</center>\n"
   ]
  },
  {
   "cell_type": "markdown",
   "metadata": {},
   "source": [
    "## Notebook\n",
    "\n",
    "Welcome to this Jupyter Notebook!\n"
   ]
  },
  {
   "cell_type": "markdown",
   "metadata": {},
   "source": [
    "## Introduction\n",
    "\n",
    "Welcome to this Jupyter Notebook! This is my first project. Looking forward for lot many\n",
    "\n"
   ]
  },
  {
   "cell_type": "markdown",
   "metadata": {},
   "source": [
    "##  Popular Programming Languages for Data Science\n",
    "\n",
    "Data Science popular languages are shown below\n",
    "\n",
    "###  Python\n",
    "\n",
    "###  R\n",
    "\n",
    "###  SQL\n",
    "\n",
    "###  Julia\n",
    "\n",
    "###  Scala\n"
   ]
  },
  {
   "cell_type": "markdown",
   "metadata": {},
   "source": [
    "##  Popular Data Science Libraries in Python\n",
    "\n",
    "\n",
    "### Data Manipulation & Analysis\n",
    "- **Pandas**\n",
    "- **NumPy** \n",
    "\n",
    "### Data Visualization\n",
    "- **Matplotlib**\n",
    "- **Plotly**\n",
    "\n",
    "### Machine Learning\n",
    "- **TensorFlow**\n"
   ]
  },
  {
   "cell_type": "markdown",
   "metadata": {},
   "source": [
    "## Data Science Tools\n",
    "\n",
    "| Category               | Tool/Platform           | Description                                           |\n",
    "|------------------------|-------------------------|-------------------------------------------------------|\n",
    "| Programming Language   | Python, R               | Core languages for analysis, modeling, and scripting  |\n",
    "| Data Manipulation      | Pandas, dplyr           | Tools for data wrangling and transformation           |\n",
    "| Data Visualization     | Matplotlib, Seaborn, ggplot2 | Create charts, plots, and visual insights        |\n",
    "| Machine Learning       | scikit-learn, TensorFlow, caret | Build and train predictive models              |\n",
    "| SQL & Databases        | MySQL, PostgreSQL, SQLite| Store and query structured data                       |\n",
    "| Notebooks & IDEs       | Jupyter, RStudio, VS Code| Environments for writing and running code             |\n",
    "| Cloud Platforms        | AWS, GCP, Azure         | Scalable computing and data services                  |\n",
    "| Collaboration          | Git, GitHub, DVC        | Version control and team collaboration                |\n",
    "\n"
   ]
  },
  {
   "cell_type": "markdown",
   "metadata": {},
   "source": [
    "## Arithmetic Expression Examples\n",
    "\n",
    "Arithmetic expressions are fundamental to any programming or mathematical computation. They involve basic operators to perform calculations like addition, subtraction, multiplication, and division.\n",
    "\n",
    "### 🔢 Example Expressions:\n",
    "```python\n",
    "3 + 5       # Addition → 8\n",
    "10 - 4      # Subtraction → 6\n",
    "6 * 7       # Multiplication → 42\n",
    "15 / 3      # Division → 5.0\n",
    "2 ** 3      # Exponentiation → 8\n",
    "10 % 3      # Modulus → 1\n"
   ]
  },
  {
   "cell_type": "code",
   "execution_count": 1,
   "metadata": {},
   "outputs": [
    {
     "name": "stdout",
     "output_type": "stream",
     "text": [
      "15\n",
      "50\n"
     ]
    }
   ],
   "source": [
    "# Create a code cell to multiply and add numbers\n",
    "a = 5 \n",
    "b = 10\n",
    "c = a+b\n",
    "d = a*b\n",
    "print(c)\n",
    "print(d)"
   ]
  },
  {
   "cell_type": "code",
   "execution_count": 2,
   "metadata": {},
   "outputs": [
    {
     "name": "stdout",
     "output_type": "stream",
     "text": [
      "2.55\n"
     ]
    }
   ],
   "source": [
    "# Exercise 9 - Create a code cell to convert minutes to hours. \n",
    "\n",
    "Min = 153 # this number can be changes\n",
    "Hours = Min/60\n",
    "print(Hours)"
   ]
  },
  {
   "cell_type": "markdown",
   "metadata": {},
   "source": [
    "## Objectives\n",
    "\n",
    "In this notebook, we aim to achieve the following:\n",
    "\n",
    "- Understand basic Python syntax and structure\n",
    "- Learn how to write and run simple Python code\n",
    "- Perform basic arithmetic operations (addition, multiplication, etc.)\n",
    "- Convert minutes to hours using Python\n",
    "- Practice using Markdown and code cells in Jupyter Notebook\n"
   ]
  },
  {
   "cell_type": "markdown",
   "metadata": {},
   "source": [
    "## Author’s name\n",
    "\n",
    "**Naveed Khan**"
   ]
  },
  {
   "cell_type": "code",
   "execution_count": null,
   "metadata": {},
   "outputs": [],
   "source": []
  }
 ],
 "metadata": {
  "kernelspec": {
   "display_name": "Python 3 (ipykernel)",
   "language": "python",
   "name": "python3"
  },
  "language_info": {
   "codemirror_mode": {
    "name": "ipython",
    "version": 3
   },
   "file_extension": ".py",
   "mimetype": "text/x-python",
   "name": "python",
   "nbconvert_exporter": "python",
   "pygments_lexer": "ipython3",
   "version": "3.12.8"
  }
 },
 "nbformat": 4,
 "nbformat_minor": 4
}
