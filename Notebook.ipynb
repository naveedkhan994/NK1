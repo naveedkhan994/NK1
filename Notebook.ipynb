{
 "cells": [
  {
   "cell_type": "markdown",
   "metadata": {},
   "source": [
    "<center>\n",
    "    <img src=\"https://cf-courses-data.s3.us.cloud-object-storage.appdomain.cloud/IBMDeveloperSkillsNetwork-DS0105EN-SkillsNetwork/labs/Module2/images/SN_web_lightmode.png\" width=\"300\" alt=\"cognitiveclass.ai logo\">\n",
    "</center>\n"
   ]
  },
  {
   "cell_type": "markdown",
   "metadata": {},
   "source": [
    "## Notebook\n",
    "\n",
    "Welcome to this Jupyter Notebook!\n"
   ]
  },
  {
   "cell_type": "markdown",
   "metadata": {},
   "source": [
    "## Introduction\n",
    "\n",
    "Welcome to this Jupyter Notebook! This is my first project. Looking forward for lot many\n",
    "\n"
   ]
  },
  {
   "cell_type": "markdown",
   "metadata": {},
   "source": [
    "##  Popular Programming Languages for Data Science\n",
    "\n",
    "Data Science popular languages are shown below\n",
    "\n",
    "### Python\n",
    "\n",
    "### R\n",
    "\n",
    "### SQL\n",
    "\n",
    "### Scala\n",
    "\n",
    "### Java\n",
    "\n",
    "### C++\n",
    "\n",
    "### Julia\n",
    "\n",
    "### JavaScript\n",
    "\n",
    "### PHP\n",
    "\n",
    "### Go\n",
    "\n",
    "### Ruby\n",
    "\n",
    "### Visual Basic"
   ]
  },
  {
   "cell_type": "markdown",
   "metadata": {},
   "source": [
    "##  Popular Data Science Libraries in Python\n",
    "\n",
    "\n",
    "### Pandas\n",
    "\n",
    "### Numpy\n",
    "\n",
    "### Matplotlib\n",
    "\n",
    "### Seaborn\n",
    "\n",
    "### Scikit-learn\n",
    "\n",
    "### Keras\n",
    "\n",
    "### TensorFlow\n",
    "\n",
    "### PyTorch\n",
    "\n",
    "### Apache Spark\n",
    "\n",
    "### Vegas\n",
    "\n",
    "### Big DL\n",
    "\n",
    "### Ggplot2\n"
   ]
  },
  {
   "cell_type": "markdown",
   "metadata": {},
   "source": [
    "## Data Science Tools\n",
    "\n",
    "| Data Sciece Tools      |\n",
    "|------------------------|\n",
    "| Anaconda               |\n",
    "| Jupyter Notebook       |\n",
    "| R Studion              |\n",
    "| Spyder                 |\n",
    "| Zeppelin               |\n"
   ]
  },
  {
   "cell_type": "markdown",
   "metadata": {},
   "source": [
    "## Arithmetic Expression Examples\n",
    "\n",
    "Arithmetic expressions are fundamental to any programming or mathematical computation. They involve basic operators to perform calculations like addition, subtraction, multiplication, and division.\n",
    "\n",
    "### 🔢 Example Expressions:\n",
    "```python\n",
    "3 + 5       # Addition → 8\n",
    "10 - 4      # Subtraction → 6\n",
    "6 * 7       # Multiplication → 42\n",
    "15 / 3      # Division → 5.0\n",
    "2 ** 3      # Exponentiation → 8\n",
    "10 % 3      # Modulus → 1\n"
   ]
  },
  {
   "cell_type": "code",
   "execution_count": 2,
   "metadata": {},
   "outputs": [
    {
     "name": "stdout",
     "output_type": "stream",
     "text": [
      "17\n"
     ]
    }
   ],
   "source": [
    "# Multiply and add integers to get 17\n",
    "\n",
    "a = 3\n",
    "b = 5\n",
    "c = 2\n",
    "\n",
    "# Calculation: (a * b) + c\n",
    "result = (a * b) + c\n",
    "\n",
    "print(result)\n"
   ]
  },
  {
   "cell_type": "code",
   "execution_count": 3,
   "metadata": {},
   "outputs": [
    {
     "name": "stdout",
     "output_type": "stream",
     "text": [
      "3.3333333333333335\n"
     ]
    }
   ],
   "source": [
    "# Convert minutes to hours to get 3.33 as result\n",
    "\n",
    "minutes = 200  # You can change this value if needed\n",
    "\n",
    "hours = minutes / 60\n",
    "\n",
    "# Format to 2 decimal places\n",
    "print(hours)\n"
   ]
  },
  {
   "cell_type": "markdown",
   "metadata": {},
   "source": [
    "## Objectives\n",
    "\n",
    "- Add comments to the code\n",
    "- Create Markdown cells\n",
    "- Add odered and unordered list to the markdown cells\n"
   ]
  },
  {
   "cell_type": "markdown",
   "metadata": {},
   "source": [
    "## Author(s)\n",
    "\n",
    "Naveed Khan"
   ]
  }
 ],
 "metadata": {
  "kernelspec": {
   "display_name": "Python 3 (ipykernel)",
   "language": "python",
   "name": "python3"
  },
  "language_info": {
   "codemirror_mode": {
    "name": "ipython",
    "version": 3
   },
   "file_extension": ".py",
   "mimetype": "text/x-python",
   "name": "python",
   "nbconvert_exporter": "python",
   "pygments_lexer": "ipython3",
   "version": "3.12.8"
  }
 },
 "nbformat": 4,
 "nbformat_minor": 4
}
